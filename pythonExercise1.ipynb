{
 "metadata": {
  "name": ""
 },
 "nbformat": 3,
 "nbformat_minor": 0,
 "worksheets": [
  {
   "cells": [
    {
     "cell_type": "markdown",
     "metadata": {},
     "source": [
      "Question 1\n",
      "Level 1\n",
      "\n",
      "Question:\n",
      "Write a program which will find all such numbers which are divisible by 7 but are not a multiple of 5,\n",
      "between 2000 and 3200 (both included).\n",
      "The numbers obtained should be printed in a comma-separated sequence on a single line."
     ]
    },
    {
     "cell_type": "code",
     "collapsed": false,
     "input": [
      "a = []\n",
      "\n",
      "for i in range(2000, 3201):\n",
      "    if i%7 == 0 and i%5 != 0:\n",
      "        a.append(str(i))\n",
      "        \n",
      "print ','.join(a)"
     ],
     "language": "python",
     "metadata": {},
     "outputs": [
      {
       "output_type": "stream",
       "stream": "stdout",
       "text": [
        "2002,2009,2016,2023,2037,2044,2051,2058,2072,2079,2086,2093,2107,2114,2121,2128,2142,2149,2156,2163,2177,2184,2191,2198,2212,2219,2226,2233,2247,2254,2261,2268,2282,2289,2296,2303,2317,2324,2331,2338,2352,2359,2366,2373,2387,2394,2401,2408,2422,2429,2436,2443,2457,2464,2471,2478,2492,2499,2506,2513,2527,2534,2541,2548,2562,2569,2576,2583,2597,2604,2611,2618,2632,2639,2646,2653,2667,2674,2681,2688,2702,2709,2716,2723,2737,2744,2751,2758,2772,2779,2786,2793,2807,2814,2821,2828,2842,2849,2856,2863,2877,2884,2891,2898,2912,2919,2926,2933,2947,2954,2961,2968,2982,2989,2996,3003,3017,3024,3031,3038,3052,3059,3066,3073,3087,3094,3101,3108,3122,3129,3136,3143,3157,3164,3171,3178,3192,3199\n"
       ]
      }
     ],
     "prompt_number": 20
    },
    {
     "cell_type": "markdown",
     "metadata": {},
     "source": [
      "Question 2\n",
      "Level 1\n",
      "\n",
      "Question:\n",
      "Write a program which can compute the factorial of a given numbers.\n",
      "The results should be printed in a comma-separated sequence on a single line.\n",
      "Suppose the following input is supplied to the program:\n",
      "8\n",
      "Then, the output should be:\n",
      "40320"
     ]
    },
    {
     "cell_type": "code",
     "collapsed": false,
     "input": [
      "def factorial(n):\n",
      "    if n == 1: return n\n",
      "    else: return n*factorial(n-1)\n",
      "    \n",
      "x = int(raw_input())\n",
      "print factorial(x)"
     ],
     "language": "python",
     "metadata": {},
     "outputs": [
      {
       "name": "stdout",
       "output_type": "stream",
       "stream": "stdout",
       "text": [
        "12\n"
       ]
      },
      {
       "output_type": "stream",
       "stream": "stdout",
       "text": [
        "479001600\n"
       ]
      }
     ],
     "prompt_number": 15
    },
    {
     "cell_type": "markdown",
     "metadata": {},
     "source": [
      "Question 3\n",
      "Level 1\n",
      "\n",
      "Question:\n",
      "With a given integral number n, write a program to generate a dictionary that contains (i, i*i) such that is an integral number between 1 and n (both included). and then the program should print the dictionary.\n",
      "Suppose the following input is supplied to the program:\n",
      "8\n",
      "Then, the output should be:\n",
      "{1: 1, 2: 4, 3: 9, 4: 16, 5: 25, 6: 36, 7: 49, 8: 64}"
     ]
    },
    {
     "cell_type": "code",
     "collapsed": false,
     "input": [
      "def genDict(n):\n",
      "    d = {}\n",
      "    for i in range(1,n+1):\n",
      "        d[i] = i*i\n",
      "    return d\n",
      "\n",
      "x = int(raw_input())\n",
      "print genDict(x)"
     ],
     "language": "python",
     "metadata": {},
     "outputs": []
    },
    {
     "cell_type": "markdown",
     "metadata": {},
     "source": [
      "Question 4\n",
      "Level 1\n",
      "\n",
      "Question:\n",
      "Write a program which accepts a sequence of comma-separated numbers from console and generate a list and a tuple which contains every number.\n",
      "Suppose the following input is supplied to the program:\n",
      "34,67,55,33,12,98\n",
      "Then, the output should be:\n",
      "['34', '67', '55', '33', '12', '98']\n",
      "('34', '67', '55', '33', '12', '98')"
     ]
    },
    {
     "cell_type": "code",
     "collapsed": false,
     "input": [
      "x = raw_input()\n",
      "t = tuple(x.split(','))\n",
      "\n",
      "print x\n",
      "print t"
     ],
     "language": "python",
     "metadata": {},
     "outputs": [
      {
       "name": "stdout",
       "output_type": "stream",
       "stream": "stdout",
       "text": [
        "10,2,3\n"
       ]
      },
      {
       "output_type": "stream",
       "stream": "stdout",
       "text": [
        "10,2,3\n",
        "('10', '2', '3')\n"
       ]
      }
     ],
     "prompt_number": 31
    },
    {
     "cell_type": "markdown",
     "metadata": {},
     "source": [
      "Question 5\n",
      "Level 1\n",
      "\n",
      "Question:\n",
      "Define a class which has at least two methods:\n",
      "getString: to get a string from console input\n",
      "printString: to print the string in upper case.\n",
      "Also please include simple test function to test the class methods."
     ]
    },
    {
     "cell_type": "code",
     "collapsed": false,
     "input": [
      "class myClass:\n",
      "    \n",
      "    def __init__(self):\n",
      "        self.s = ''\n",
      "    \n",
      "    def getString(self):\n",
      "        self.s = raw_input()\n",
      "    \n",
      "    def printString(self):\n",
      "        print self.s.upper()\n",
      "        \n",
      "strObj = myClass()\n",
      "strObj.getString()\n",
      "strObj.printString()"
     ],
     "language": "python",
     "metadata": {},
     "outputs": [
      {
       "name": "stdout",
       "output_type": "stream",
       "stream": "stdout",
       "text": [
        "123\n"
       ]
      },
      {
       "output_type": "stream",
       "stream": "stdout",
       "text": [
        "123\n"
       ]
      }
     ],
     "prompt_number": 34
    },
    {
     "cell_type": "markdown",
     "metadata": {},
     "source": [
      "Question 6\n",
      "Level 2\n",
      "\n",
      "Question:\n",
      "Write a program that calculates and prints the value according to the given formula:\n",
      "Q = Square root of [(2 * C * D)/H]\n",
      "Following are the fixed values of C and H:\n",
      "C is 50. H is 30.\n",
      "D is the variable whose values should be input to your program in a comma-separated sequence.\n",
      "Example\n",
      "Let us assume the following comma separated input sequence is given to the program:\n",
      "100,150,180\n",
      "The output of the program should be:\n",
      "18,22,24"
     ]
    },
    {
     "cell_type": "code",
     "collapsed": false,
     "input": [
      "import math\n",
      "\n",
      "C, H = 50, 30\n",
      "l = raw_input().split(',')\n",
      "results = []\n",
      "for D in l:\n",
      "    results.append(str(round(math.sqrt(2*C*float(D)/H))))\n",
      "    \n",
      "results"
     ],
     "language": "python",
     "metadata": {},
     "outputs": [
      {
       "name": "stdout",
       "output_type": "stream",
       "stream": "stdout",
       "text": [
        "100,150,180 \n"
       ]
      },
      {
       "metadata": {},
       "output_type": "pyout",
       "prompt_number": 41,
       "text": [
        "['18.0', '22.0', '24.0']"
       ]
      }
     ],
     "prompt_number": 41
    },
    {
     "cell_type": "markdown",
     "metadata": {},
     "source": [
      "Question 7\n",
      "Level 2\n",
      "\n",
      "Question:\n",
      "Write a program which takes 2 digits, X,Y as input and generates a 2-dimensional array. The element value in the i-th row and j-th column of the array should be i*j.\n",
      "Note: i=0,1.., X-1; j=0,1,\u00a1\u00adY-1.\n",
      "Example\n",
      "Suppose the following inputs are given to the program:\n",
      "3,5\n",
      "Then, the output of the program should be:\n",
      "[[0, 0, 0, 0, 0], [0, 1, 2, 3, 4], [0, 2, 4, 6, 8]] "
     ]
    },
    {
     "cell_type": "code",
     "collapsed": false,
     "input": [
      "l = raw_input().split(',')\n",
      "dim = [int(x) for x in l]\n",
      "\n",
      "rowNum, colNum = dim[0], dim[1]\n",
      "mat = [[0 for i in range(colNum)] for j in range(rowNum)]\n",
      "\n",
      "for i in range(rowNum):\n",
      "    for j in range(colNum):\n",
      "        mat[i][j] = i*j\n",
      "        \n",
      "print mat"
     ],
     "language": "python",
     "metadata": {},
     "outputs": [
      {
       "name": "stdout",
       "output_type": "stream",
       "stream": "stdout",
       "text": [
        "1,2\n"
       ]
      },
      {
       "output_type": "stream",
       "stream": "stdout",
       "text": [
        "[[0, 0]]\n"
       ]
      }
     ],
     "prompt_number": 52
    },
    {
     "cell_type": "markdown",
     "metadata": {},
     "source": [
      "Question 8\n",
      "Level 2\n",
      "\n",
      "Question:\n",
      "Write a program that accepts a comma separated sequence of words as input and prints the words in a comma-separated sequence after sorting them alphabetically.\n",
      "Suppose the following input is supplied to the program:\n",
      "without,hello,bag,world\n",
      "Then, the output should be:\n",
      "bag,hello,without,world"
     ]
    },
    {
     "cell_type": "code",
     "collapsed": false,
     "input": [
      "l = raw_input().split(',')\n",
      "print ','.join(sorted(l))"
     ],
     "language": "python",
     "metadata": {},
     "outputs": [
      {
       "name": "stdout",
       "output_type": "stream",
       "stream": "stdout",
       "text": [
        "without,hello,bag,world\n"
       ]
      },
      {
       "output_type": "stream",
       "stream": "stdout",
       "text": [
        "bag,hello,without,world\n"
       ]
      }
     ],
     "prompt_number": 54
    },
    {
     "cell_type": "markdown",
     "metadata": {},
     "source": [
      "Question 9\n",
      "Level 2\n",
      "\n",
      "Question:\n",
      "Write a program that accepts sequence of lines as input and prints the lines after making all characters in the sentence capitalized.\n",
      "Suppose the following input is supplied to the program:\n",
      "Hello world\n",
      "Practice makes perfect\n",
      "Then, the output should be:\n",
      "HELLO WORLD\n",
      "PRACTICE MAKES PERFECT"
     ]
    },
    {
     "cell_type": "code",
     "collapsed": false,
     "input": [
      "lines = []\n",
      "while True:\n",
      "    s = raw_input()\n",
      "    if s:\n",
      "        lines.append(s.upper())\n",
      "    else:\n",
      "        break\n",
      "\n",
      "for sentence in lines:\n",
      "    print sentence\n"
     ],
     "language": "python",
     "metadata": {},
     "outputs": [
      {
       "name": "stdout",
       "output_type": "stream",
       "stream": "stdout",
       "text": [
        "\n"
       ]
      }
     ],
     "prompt_number": 59
    },
    {
     "cell_type": "markdown",
     "metadata": {},
     "source": [
      "Question 10\n",
      "Level 2\n",
      "\n",
      "Question:\n",
      "Write a program that accepts a sequence of whitespace separated words as input and prints the words after removing all duplicate words and sorting them alphanumerically.\n",
      "Suppose the following input is supplied to the program:\n",
      "hello world and practice makes perfect and hello world again\n",
      "Then, the output should be:\n",
      "again and hello makes perfect practice world"
     ]
    },
    {
     "cell_type": "code",
     "collapsed": false,
     "input": [
      "l = raw_input().split(' ')\n",
      "print ' '.join(sorted(set(l)))"
     ],
     "language": "python",
     "metadata": {},
     "outputs": [
      {
       "name": "stdout",
       "output_type": "stream",
       "stream": "stdout",
       "text": [
        "hello world and practice makes perfect and hello world again\n"
       ]
      },
      {
       "output_type": "stream",
       "stream": "stdout",
       "text": [
        "again and hello makes perfect practice world\n"
       ]
      }
     ],
     "prompt_number": 62
    },
    {
     "cell_type": "markdown",
     "metadata": {},
     "source": [
      "Question 11\n",
      "Level 2\n",
      "\n",
      "Question:\n",
      "Write a program which accepts a sequence of comma separated 4 digit binary numbers as its input and then check whether they are divisible by 5 or not. The numbers that are divisible by 5 are to be printed in a comma separated sequence.\n",
      "Example:\n",
      "0100,0011,1010,1001\n",
      "Then the output should be:\n",
      "1010\n",
      "Notes: Assume the data is input by console."
     ]
    },
    {
     "cell_type": "code",
     "collapsed": false,
     "input": [
      "lst = raw_input().split(',')\n",
      "results = []\n",
      "\n",
      "for l in lst:\n",
      "    if int(l,2)%5 == 0:\n",
      "        results.append(l)\n",
      "\n",
      "print ' '.join(results)"
     ],
     "language": "python",
     "metadata": {},
     "outputs": [
      {
       "name": "stdout",
       "output_type": "stream",
       "stream": "stdout",
       "text": [
        "0100,0011,1010,1001 \n"
       ]
      },
      {
       "output_type": "stream",
       "stream": "stdout",
       "text": [
        "1010\n"
       ]
      }
     ],
     "prompt_number": 68
    },
    {
     "cell_type": "markdown",
     "metadata": {},
     "source": [
      "Question 12\n",
      "Level 2\n",
      "\n",
      "Question:\n",
      "Write a program, which will find all such numbers between 1000 and 3000 (both included) such that each digit of the number is an even number.\n",
      "The numbers obtained should be printed in a comma-separated sequence on a single line."
     ]
    },
    {
     "cell_type": "code",
     "collapsed": false,
     "input": [
      "results = []\n",
      "\n",
      "for i in range(1000,3001):\n",
      "    tf = True\n",
      "    for s in str(i):\n",
      "        if int(s)%2 != 0: tf = False\n",
      "    if tf:\n",
      "        results.append(str(i))\n",
      "\n",
      "print ','.join(results)\n",
      "        "
     ],
     "language": "python",
     "metadata": {},
     "outputs": [
      {
       "output_type": "stream",
       "stream": "stdout",
       "text": [
        "2000,2002,2004,2006,2008,2020,2022,2024,2026,2028,2040,2042,2044,2046,2048,2060,2062,2064,2066,2068,2080,2082,2084,2086,2088,2200,2202,2204,2206,2208,2220,2222,2224,2226,2228,2240,2242,2244,2246,2248,2260,2262,2264,2266,2268,2280,2282,2284,2286,2288,2400,2402,2404,2406,2408,2420,2422,2424,2426,2428,2440,2442,2444,2446,2448,2460,2462,2464,2466,2468,2480,2482,2484,2486,2488,2600,2602,2604,2606,2608,2620,2622,2624,2626,2628,2640,2642,2644,2646,2648,2660,2662,2664,2666,2668,2680,2682,2684,2686,2688,2800,2802,2804,2806,2808,2820,2822,2824,2826,2828,2840,2842,2844,2846,2848,2860,2862,2864,2866,2868,2880,2882,2884,2886,2888\n"
       ]
      }
     ],
     "prompt_number": 69
    },
    {
     "cell_type": "markdown",
     "metadata": {},
     "source": [
      "Question 13\n",
      "Level 2\n",
      "\n",
      "Question:\n",
      "Write a program that accepts a sentence and calculate the number of letters and digits.\n",
      "Suppose the following input is supplied to the program:\n",
      "hello world! 123\n",
      "Then, the output should be:\n",
      "LETTERS 10\n",
      "DIGITS 3"
     ]
    },
    {
     "cell_type": "code",
     "collapsed": false,
     "input": [
      "s = raw_input()\n",
      "\n",
      "numLetters, numDigits = 0, 0\n",
      "for c in string:\n",
      "    if c.isdigit(): numDigits +=1\n",
      "    elif c.isalpha(): numLetters += 1\n",
      "\n",
      "print 'LETTERS ' + str(numLetters)\n",
      "print 'DIGITS ' + str(numDigits)"
     ],
     "language": "python",
     "metadata": {},
     "outputs": [
      {
       "name": "stdout",
       "output_type": "stream",
       "stream": "stdout",
       "text": [
        "hello world! 123\n"
       ]
      },
      {
       "output_type": "stream",
       "stream": "stdout",
       "text": [
        "LETTERS 10 DIGITS 3\n"
       ]
      }
     ],
     "prompt_number": 77
    },
    {
     "cell_type": "markdown",
     "metadata": {},
     "source": [
      "Question 14\n",
      "Level 2\n",
      "\n",
      "Question:\n",
      "Write a program that accepts a sentence and calculate the number of upper case letters and lower case letters.\n",
      "Suppose the following input is supplied to the program:\n",
      "Hello world!\n",
      "Then, the output should be:\n",
      "UPPER CASE 1\n",
      "LOWER CASE 9"
     ]
    },
    {
     "cell_type": "code",
     "collapsed": false,
     "input": [
      "s = raw_input()\n",
      "\n",
      "upperCase, lowerCase = 0, 0\n",
      "for c in s:\n",
      "    if c.isupper(): upperCase += 1\n",
      "    elif c.islower(): lowerCase += 1\n",
      "\n",
      "print 'UPPER CASE ' + str(upperCase) \n",
      "print 'LOWER CASE ' + str(lowerCase)        "
     ],
     "language": "python",
     "metadata": {},
     "outputs": [
      {
       "name": "stdout",
       "output_type": "stream",
       "stream": "stdout",
       "text": [
        "Hello world!\n"
       ]
      },
      {
       "output_type": "stream",
       "stream": "stdout",
       "text": [
        "UPPER CASE 1 LOWER CASE 9\n"
       ]
      }
     ],
     "prompt_number": 78
    },
    {
     "cell_type": "markdown",
     "metadata": {},
     "source": [
      "Question 15\n",
      "Level 2\n",
      "\n",
      "Question:\n",
      "Write a program that computes the value of a+aa+aaa+aaaa with a given digit as the value of a.\n",
      "Suppose the following input is supplied to the program:\n",
      "9\n",
      "Then, the output should be:\n",
      "11106"
     ]
    },
    {
     "cell_type": "code",
     "collapsed": false,
     "input": [
      "d = int(raw_input())\n",
      "\n",
      "print d + d*11 + d*111 + d*1111"
     ],
     "language": "python",
     "metadata": {},
     "outputs": [
      {
       "name": "stdout",
       "output_type": "stream",
       "stream": "stdout",
       "text": [
        "9\n"
       ]
      },
      {
       "output_type": "stream",
       "stream": "stdout",
       "text": [
        "11106\n"
       ]
      }
     ],
     "prompt_number": 80
    },
    {
     "cell_type": "markdown",
     "metadata": {},
     "source": [
      "\n",
      "Question:\n",
      "Use a list comprehension to square each odd number in a list. The list is input by a sequence of comma-separated numbers.\n",
      "Suppose the following input is supplied to the program:\n",
      "1,2,3,4,5,6,7,8,9\n",
      "Then, the output should be:\n",
      "1,3,5,7,9"
     ]
    },
    {
     "cell_type": "code",
     "collapsed": false,
     "input": [
      "s = raw_input().split(',')\n",
      "results = [x for x in s if int(x)%2!=0]\n",
      "results"
     ],
     "language": "python",
     "metadata": {},
     "outputs": [
      {
       "name": "stdout",
       "output_type": "stream",
       "stream": "stdout",
       "text": [
        "1,2,3,4,5,6,7,8,9 \n"
       ]
      },
      {
       "metadata": {},
       "output_type": "pyout",
       "prompt_number": 84,
       "text": [
        "['1', '3', '5', '7', '9 ']"
       ]
      }
     ],
     "prompt_number": 84
    },
    {
     "cell_type": "markdown",
     "metadata": {},
     "source": [
      "\n",
      "Question 17\n",
      "Level 2\n",
      "\n",
      "Question:\n",
      "Write a program that computes the net amount of a bank account based a transaction log from console input. The transaction log format is shown as following:\n",
      "D 100\n",
      "W 200\n",
      "\n",
      "D means deposit while W means withdrawal.\n",
      "Suppose the following input is supplied to the program:\n",
      "D 300\n",
      "D 300\n",
      "W 200\n",
      "D 100\n",
      "Then, the output should be:\n",
      "500"
     ]
    },
    {
     "cell_type": "code",
     "collapsed": false,
     "input": [],
     "language": "python",
     "metadata": {},
     "outputs": []
    },
    {
     "cell_type": "markdown",
     "metadata": {},
     "source": [
      "Question 18\n",
      "Level 3\n",
      "\n",
      "Question:\n",
      "A website requires the users to input username and password to register. Write a program to check the validity of password input by users.\n",
      "Following are the criteria for checking the password:\n",
      "1. At least 1 letter between [a-z]\n",
      "2. At least 1 number between [0-9]\n",
      "1. At least 1 letter between [A-Z]\n",
      "3. At least 1 character from [$#@]\n",
      "4. Minimum length of transaction password: 6\n",
      "5. Maximum length of transaction password: 12\n",
      "Your program should accept a sequence of comma separated passwords and will check them according to the above criteria. Passwords that match the criteria are to be printed, each separated by a comma.\n",
      "Example\n",
      "If the following passwords are given as input to the program:\n",
      "ABd1234@1,a F1#,2w3E*,2We3345\n",
      "Then, the output of the program should be:\n",
      "ABd1234@1"
     ]
    },
    {
     "cell_type": "code",
     "collapsed": false,
     "input": [
      "import re\n",
      "\n",
      "results = [];\n",
      "l = raw_input().split(',')\n",
      "for s in l:\n",
      "    tf = True\n",
      "    if len(s)<6 or len(s)>12: tf = False\n",
      "    elif not re.search('[a-z]',s): tf = False\n",
      "    elif not re.search('[0-9]',s): tf = False\n",
      "    elif not re.search('[A-Z]',s): tf = False\n",
      "    elif not re.search('[$#@]',s): tf = False\n",
      "    if tf: results.append(s)\n",
      "\n",
      "print ','.join(results)"
     ],
     "language": "python",
     "metadata": {},
     "outputs": [
      {
       "name": "stdout",
       "output_type": "stream",
       "stream": "stdout",
       "text": [
        "ABd1234@1,a F1#,2w3E*,2We3345\n"
       ]
      },
      {
       "output_type": "stream",
       "stream": "stdout",
       "text": [
        "ABd1234@1\n"
       ]
      }
     ],
     "prompt_number": 88
    },
    {
     "cell_type": "markdown",
     "metadata": {},
     "source": [
      "Question 19\n",
      "Level 3\n",
      "\n",
      "Question:\n",
      "You are required to write a program to sort the (name, age, height) tuples by ascending order where name is string, age and height are numbers. The tuples are input by console. The sort criteria is:\n",
      "1: Sort based on name;\n",
      "2: Then sort based on age;\n",
      "3: Then sort by score.\n",
      "The priority is that name > age > score.\n",
      "If the following tuples are given as input to the program:\n",
      "Tom,19,80\n",
      "John,20,90\n",
      "Jony,17,91\n",
      "Jony,17,93\n",
      "Json,21,85\n",
      "Then, the output of the program should be:\n",
      "[('John', '20', '90'), ('Jony', '17', '91'), ('Jony', '17', '93'), ('Json', '21', '85'), ('Tom', '19', '80')]"
     ]
    },
    {
     "cell_type": "code",
     "collapsed": false,
     "input": [],
     "language": "python",
     "metadata": {},
     "outputs": []
    }
   ],
   "metadata": {}
  }
 ]
}